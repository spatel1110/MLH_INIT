{
  "nbformat": 4,
  "nbformat_minor": 0,
  "metadata": {
    "colab": {
      "name": "Untitled0.ipynb",
      "private_outputs": true,
      "provenance": [],
      "authorship_tag": "ABX9TyMIyDzeINwGGP9MyWP+gn3D"
    },
    "kernelspec": {
      "name": "python3",
      "display_name": "Python 3"
    },
    "language_info": {
      "name": "python"
    }
  },
  "cells": [
    {
      "cell_type": "code",
      "metadata": {
        "id": "DUOEheS5rmfC"
      },
      "source": [
        "import matplotlib.pyplot as plt\n",
        "import numpy as np\n",
        "import pandas as pd"
      ],
      "execution_count": null,
      "outputs": []
    },
    {
      "cell_type": "code",
      "metadata": {
        "id": "m8GuCumNtKNr"
      },
      "source": [
        "chess = np.array([[1,0,1,0,1,0,1,0],\n",
        "                  [0,1,0,1,0,1,0,1],\n",
        "                  [1,0,1,0,1,0,1,0],\n",
        "                  [0,1,0,1,0,1,0,1],\n",
        "                  [1,0,1,0,1,0,1,0],\n",
        "                  [0,1,0,1,0,1,0,1],\n",
        "                  [1,0,1,0,1,0,1,0],\n",
        "                  [0,1,0,1,0,1,0,1]])\n"
      ],
      "execution_count": null,
      "outputs": []
    },
    {
      "cell_type": "code",
      "metadata": {
        "id": "TJPiguL7ttH4"
      },
      "source": [
        "plt.figure(figsize=(10,10))\n",
        "plt.imshow(chess, cmap='gray')\n",
        "plt.axis(False)\n",
        "plt.show()\n"
      ],
      "execution_count": null,
      "outputs": []
    },
    {
      "cell_type": "code",
      "metadata": {
        "id": "wKRlk_5Wt0AQ"
      },
      "source": [
        ""
      ],
      "execution_count": null,
      "outputs": []
    }
  ]
}